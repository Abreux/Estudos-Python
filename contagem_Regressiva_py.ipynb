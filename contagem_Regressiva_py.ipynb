{
  "nbformat": 4,
  "nbformat_minor": 0,
  "metadata": {
    "colab": {
      "name": "contagem.Regressiva.py",
      "provenance": [],
      "authorship_tag": "ABX9TyPyaluhN033Dc6Gy18XFPEh",
      "include_colab_link": true
    },
    "kernelspec": {
      "name": "python3",
      "display_name": "Python 3"
    }
  },
  "cells": [
    {
      "cell_type": "markdown",
      "metadata": {
        "id": "view-in-github",
        "colab_type": "text"
      },
      "source": [
        "<a href=\"https://colab.research.google.com/github/Abreux/Estudos-Python/blob/master/contagem_Regressiva_py.ipynb\" target=\"_parent\"><img src=\"https://colab.research.google.com/assets/colab-badge.svg\" alt=\"Open In Colab\"/></a>"
      ]
    },
    {
      "cell_type": "code",
      "metadata": {
        "id": "awC7Fl7cYx4Z",
        "colab_type": "code",
        "colab": {}
      },
      "source": [
        "# Faça um programa que mostre na tela uma contagem regressiva para o estouro de fogos de artifício,\n",
        "# indo de 10 até 0, com uma pausa de 1 segundo entre eles.\n",
        "from time import sleep\n",
        "for c in range(10, -1, -1):\n",
        "\tprint(c)\n",
        "\tsleep(0.5)\n",
        "print('Feliz Ano Novo!')"
      ],
      "execution_count": null,
      "outputs": []
    },
    {
      "cell_type": "markdown",
      "metadata": {
        "id": "E9fuQ7WFbn1m",
        "colab_type": "text"
      },
      "source": [
        ""
      ]
    }
  ]
}