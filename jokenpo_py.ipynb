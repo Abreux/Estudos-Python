{
  "nbformat": 4,
  "nbformat_minor": 0,
  "metadata": {
    "colab": {
      "name": "jokenpo.py",
      "provenance": [],
      "authorship_tag": "ABX9TyPYvCftjwCLM26TuVy/tkvY",
      "include_colab_link": true
    },
    "kernelspec": {
      "name": "python3",
      "display_name": "Python 3"
    }
  },
  "cells": [
    {
      "cell_type": "markdown",
      "metadata": {
        "id": "view-in-github",
        "colab_type": "text"
      },
      "source": [
        "<a href=\"https://colab.research.google.com/github/Abreux/Estudos-Python/blob/master/jokenpo_py.ipynb\" target=\"_parent\"><img src=\"https://colab.research.google.com/assets/colab-badge.svg\" alt=\"Open In Colab\"/></a>"
      ]
    },
    {
      "cell_type": "code",
      "metadata": {
        "id": "feimgds3o6p7",
        "colab_type": "code",
        "colab": {}
      },
      "source": [
        "from random import randint\n",
        "from time import sleep\n",
        "objetos = ('PEDRA', 'PAPEL', 'TESOURA')\n",
        "computador = randint(0,2)\n",
        "print('''Suas opções:\n",
        "[0] - PEDRA\n",
        "[1] - PAPEL\n",
        "[2] - TESOURA''')\n",
        "jogador = int(input('Digite a opção escolhida:\\n'))\n",
        "print('*' * 20)\n",
        "print('\\033[1;30;43mPEDRA')\n",
        "sleep(1)\n",
        "print('PAPEL')\n",
        "sleep(1)\n",
        "print('TESOURA\\033[0m')\n",
        "sleep(1)\n",
        "print(f'O jogador escolheu {objetos[jogador]} e o computador jogou {objetos[computador]}.')\n",
        "if computador == 0:\n",
        "  if jogador == 0:\n",
        "    print('EMPATE')\n",
        "  elif jogador == 1:\n",
        "    print('Jogador GANHOU!')\n",
        "  elif jogador == 2:\n",
        "    print('Computador GANHOU!')\n",
        "  else:\n",
        "    print('JOGADA INVÁLIDA!')\n",
        "elif computador == 1:\n",
        "  if jogador == 0:\n",
        "    print('Computador GANHOU!')\n",
        "  elif jogador == 1:\n",
        "    print('EMPATE!')\n",
        "  elif jogador == 2:\n",
        "    print('Jogador GANHOU!')\n",
        "  else:\n",
        "    print('JOGADA INVÁLIDA!')\n",
        "elif computador == 2:\n",
        "  if jogador == 0:\n",
        "    print('Jogador GANHOU!')\n",
        "  elif jogador == 1:\n",
        "    print('Computador GANHOU!')\n",
        "  elif jogador == 2:\n",
        "    print('EMPATE!')\n",
        "  else:\n",
        "    print('JOGADA INVÁLIDA!')\n",
        "print('*' * 20)"
      ],
      "execution_count": null,
      "outputs": []
    },
    {
      "cell_type": "markdown",
      "metadata": {
        "id": "uGvqBTtZ3tfm",
        "colab_type": "text"
      },
      "source": [
        ""
      ]
    }
  ]
}