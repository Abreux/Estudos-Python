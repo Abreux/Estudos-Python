{
  "nbformat": 4,
  "nbformat_minor": 0,
  "metadata": {
    "colab": {
      "name": "tabuada.ipynb",
      "provenance": [],
      "authorship_tag": "ABX9TyPfV129znHODlV7lOoO1r5N",
      "include_colab_link": true
    },
    "kernelspec": {
      "name": "python3",
      "display_name": "Python 3"
    }
  },
  "cells": [
    {
      "cell_type": "markdown",
      "metadata": {
        "id": "view-in-github",
        "colab_type": "text"
      },
      "source": [
        "<a href=\"https://colab.research.google.com/github/Abreux/Estudos-Python/blob/master/tabuada.ipynb\" target=\"_parent\"><img src=\"https://colab.research.google.com/assets/colab-badge.svg\" alt=\"Open In Colab\"/></a>"
      ]
    },
    {
      "cell_type": "code",
      "metadata": {
        "id": "BQnj3Y5J25Ru",
        "colab_type": "code",
        "colab": {}
      },
      "source": [
        "val = int(input('Digite um valor qualquer, para ver a sua tabuada: '))\n",
        "print('\\n')\n",
        "print('*' * 30)\n",
        "for c in range(0, 11):\n",
        "\tprint(f'{val} X {c} = {val * c}')\n",
        "print('*' * 30)\n"
      ],
      "execution_count": null,
      "outputs": []
    }
  ]
}